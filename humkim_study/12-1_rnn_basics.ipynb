{
 "cells": [
  {
   "cell_type": "markdown",
   "metadata": {},
   "source": [
    "# One node :4(input-dim) in 2(hiddedn size)"
   ]
  },
  {
   "cell_type": "code",
   "execution_count": 2,
   "metadata": {},
   "outputs": [],
   "source": [
    "import tensorflow as tf\n",
    "import numpy as np\n",
    "import pprint as pp"
   ]
  },
  {
   "cell_type": "code",
   "execution_count": 3,
   "metadata": {},
   "outputs": [
    {
     "name": "stdout",
     "output_type": "stream",
     "text": [
      "(3, 5, 4)\n",
      "array([[[1., 0., 0., 0.],\n",
      "        [0., 1., 0., 0.],\n",
      "        [0., 0., 1., 0.],\n",
      "        [0., 0., 1., 0.],\n",
      "        [0., 0., 0., 1.]],\n",
      "\n",
      "       [[0., 1., 0., 0.],\n",
      "        [0., 0., 0., 1.],\n",
      "        [0., 0., 1., 0.],\n",
      "        [0., 0., 1., 0.],\n",
      "        [0., 0., 1., 0.]],\n",
      "\n",
      "       [[0., 0., 1., 0.],\n",
      "        [0., 0., 1., 0.],\n",
      "        [0., 1., 0., 0.],\n",
      "        [0., 1., 0., 0.],\n",
      "        [0., 0., 1., 0.]]], dtype=float32)\n",
      "array([[[-0.02374768, -0.02627535],\n",
      "        [-0.02368184,  0.01926539],\n",
      "        [-0.10766009,  0.00734608],\n",
      "        [-0.17257403, -0.00053456],\n",
      "        [-0.03247496,  0.02445314]],\n",
      "\n",
      "       [[-0.00184993,  0.03924773],\n",
      "        [ 0.09135875,  0.05481122],\n",
      "        [-0.01393372,  0.0459094 ],\n",
      "        [-0.10207362,  0.03320966],\n",
      "        [-0.17043829,  0.02249008]],\n",
      "\n",
      "       [[-0.08618899, -0.00751223],\n",
      "        [-0.15475088, -0.01381428],\n",
      "        [-0.1317527 ,  0.02360533],\n",
      "        [-0.11609995,  0.05873403],\n",
      "        [-0.18380588,  0.03826857]]], dtype=float32)\n"
     ]
    }
   ],
   "source": [
    "# One hot encoding\n",
    "h = [1, 0, 0, 0]\n",
    "e = [0, 1, 0, 0]\n",
    "l = [0, 0, 1, 0]\n",
    "o = [0, 0, 0, 1]\n",
    "\n",
    "with tf.Session() as sess:\n",
    "    # one cell RNN input_dim (4) -> output_dim (2), sequence: 5, batch: 3\n",
    "    hidden_size = 2\n",
    "    cell = tf.contrib.rnn.BasicLSTMCell(num_units=hidden_size)\n",
    "\n",
    "    # 3batches 'hello', 'eolll', 'lleel'\n",
    "    x_data = np.array([[h, e, l, l, o],\n",
    "                       [e, o, l, l, l],\n",
    "                       [l, l, e, e, l]], dtype=np.float32)\n",
    "    print(x_data.shape)\n",
    "    pp.pprint(x_data)\n",
    "    outputs, _states = tf.nn.dynamic_rnn(cell, x_data, dtype=tf.float32)\n",
    "\n",
    "    sess.run(tf.global_variables_initializer())\n",
    "    pp.pprint(outputs.eval())\n",
    "\n"
   ]
  },
  {
   "cell_type": "markdown",
   "metadata": {},
   "source": [
    "# Cost: sequence_loss"
   ]
  },
  {
   "cell_type": "code",
   "execution_count": 6,
   "metadata": {},
   "outputs": [
    {
     "name": "stdout",
     "output_type": "stream",
     "text": [
      "Loss1:  0.5130153\n",
      "Loss2:  0.37110072\n"
     ]
    }
   ],
   "source": [
    "with tf.Session() as sess:\n",
    "    # [batch_size, sequence_length]\n",
    "    y_data = tf.constant([[1, 1, 1]])\n",
    "\n",
    "    # [batch_size, sequence_length, emb_dim]\n",
    "    prediction1 = tf.constant([[[0.3, 0.7], [0.3, 0.7], [0.3, 0.7]]], dtype=tf.float32)\n",
    "    prediction2 = tf.constant([[[0.1, 0.9], [0.1, 0.9], [0.1, 0.9]]], dtype=tf.float32)\n",
    "\n",
    "    # [batch_size * sequence_length]\n",
    "    weights = tf.constant([[1, 1, 1]], dtype=tf.float32)\n",
    "\n",
    "    sequence_loss1 = tf.contrib.seq2seq.sequence_loss(logits=prediction1, targets=y_data, weights=weights)\n",
    "    sequence_loss2 = tf.contrib.seq2seq.sequence_loss(logits=prediction2, targets=y_data, weights=weights)\n",
    "\n",
    "    sess.run(tf.global_variables_initializer())\n",
    "    print('Loss1: ', sequence_loss1.eval())\n",
    "    print('Loss2: ', sequence_loss2.eval())"
   ]
  },
  {
   "cell_type": "code",
   "execution_count": null,
   "metadata": {},
   "outputs": [],
   "source": []
  }
 ],
 "metadata": {
  "kernelspec": {
   "display_name": "Python 3",
   "language": "python",
   "name": "python3"
  },
  "language_info": {
   "codemirror_mode": {
    "name": "ipython",
    "version": 3
   },
   "file_extension": ".py",
   "mimetype": "text/x-python",
   "name": "python",
   "nbconvert_exporter": "python",
   "pygments_lexer": "ipython3",
   "version": "3.6.3"
  }
 },
 "nbformat": 4,
 "nbformat_minor": 2
}
