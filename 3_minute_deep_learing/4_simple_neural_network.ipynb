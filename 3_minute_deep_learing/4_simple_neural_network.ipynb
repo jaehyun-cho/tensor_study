{
 "cells": [
  {
   "cell_type": "code",
   "execution_count": 26,
   "metadata": {},
   "outputs": [],
   "source": [
    "import tensorflow as tf\n",
    "import numpy as np"
   ]
  },
  {
   "cell_type": "code",
   "execution_count": 27,
   "metadata": {},
   "outputs": [],
   "source": [
    "# [털, 날개]\n",
    "x_data = np.array(\n",
    "    [[0, 0], [1, 0], [1, 1], [0, 0], [0, 0], [0, 1]])"
   ]
  },
  {
   "cell_type": "markdown",
   "metadata": {},
   "source": [
    "* one hot encoding\n",
    "\n",
    "  * 데이터가 가질 수 있는 값들을 일렬로 나열한 배열을 만들고, 그 중 표현하려는 값을 뜻하는 인덱스의 원소만 1로 표기하고 나머지 원소는 모두 0으로 채우는 표기법\n",
    "  \n",
    "기타 = [1, 0, 0]  \n",
    "포유류 = [0, 1, 0]  \n",
    "조류 = [0, 0, 1]"
   ]
  },
  {
   "cell_type": "code",
   "execution_count": 28,
   "metadata": {},
   "outputs": [],
   "source": [
    "y_data = np.array([\n",
    "    [1, 0, 0],  # 기타\n",
    "    [0, 1, 0],  # 포유류\n",
    "    [0, 0, 1],  # 조류\n",
    "    [1, 0, 0],\n",
    "    [1, 0, 0],\n",
    "    [0, 0, 1]\n",
    "])"
   ]
  },
  {
   "cell_type": "code",
   "execution_count": 29,
   "metadata": {},
   "outputs": [],
   "source": [
    "X = tf.placeholder(tf.float32)\n",
    "Y = tf.placeholder(tf.float32)"
   ]
  },
  {
   "cell_type": "code",
   "execution_count": 30,
   "metadata": {},
   "outputs": [],
   "source": [
    "W = tf.Variable(tf.random_uniform([2, 3], -1., 1.))\n",
    "b = tf.Variable(tf.zeros([3]))"
   ]
  },
  {
   "cell_type": "code",
   "execution_count": 31,
   "metadata": {},
   "outputs": [],
   "source": [
    "L = tf.add(tf.matmul(X, W), b)\n",
    "L = tf.nn.relu(L)"
   ]
  },
  {
   "cell_type": "code",
   "execution_count": 32,
   "metadata": {},
   "outputs": [],
   "source": [
    "model = tf.nn.softmax(L)   #softmax : 결과값의 전체 합이 1이 되도록 만들어주는 함수"
   ]
  },
  {
   "cell_type": "code",
   "execution_count": 33,
   "metadata": {},
   "outputs": [],
   "source": [
    "cost = tf.reduce_mean(-tf.reduce_sum(Y * tf.log(model), axis = 1))"
   ]
  },
  {
   "cell_type": "markdown",
   "metadata": {},
   "source": [
    "reduce_xxx 함수들은 텐서의 차원을 줄여준다. 함수 이름의 xx 부분이 구체적인 차원 축소 방법을 뜻하고, axis parameter로 축소할 차원을 정한다.  \n",
    "예를들어 reduce_sum(input tensor, axis=1)은 주어진 텐서의 1번째 차원(???)의 값들을 다 더해(값 1개로 만들어서) 그 차원을 없앤다는 뜻"
   ]
  },
  {
   "cell_type": "code",
   "execution_count": 37,
   "metadata": {},
   "outputs": [
    {
     "name": "stdout",
     "output_type": "stream",
     "text": [
      "10 1.1228555\n",
      "20 1.1190923\n",
      "30 1.1154586\n",
      "40 1.1119488\n",
      "50 1.1085578\n",
      "60 1.1052803\n",
      "70 1.1021115\n",
      "80 1.0990465\n",
      "90 1.096081\n",
      "100 1.0932106\n",
      "예측값:  [0 1 1 0 0 1]\n",
      "실제값:  [0 1 2 0 0 2]\n",
      "정확도: 66.67\n"
     ]
    }
   ],
   "source": [
    "# 기본적인 경사하강법으로 최적화한다.\n",
    "optimizer = tf.train.GradientDescentOptimizer(learning_rate=0.01)\n",
    "train_op = optimizer.minimize(cost)\n",
    "\n",
    "# 텐서플로의 세션을 초기화한다.\n",
    "with tf.Session() as sess:\n",
    "    init = tf.global_variables_initializer()\n",
    "    sess.run(init)\n",
    "\n",
    "    # 앞서 구성한 특징과 레이블 데이터를 이용해 학습을 100번 진행한다.\n",
    "    for step in range(100):\n",
    "        sess.run(train_op, feed_dict={X: x_data, Y: y_data})\n",
    "\n",
    "        # 학습 도중 10번에 한 번씩 손실값을 출력해보자\n",
    "        if (step + 1) % 10 == 0:\n",
    "            print(step+1, sess.run(cost, feed_dict={X: x_data, Y: y_data}))\n",
    "    \n",
    "    prediction = tf.argmax(model, axis=1)\n",
    "    target = tf.argmax(Y, axis=1)\n",
    "    print('예측값: ', sess.run(prediction, feed_dict={X: x_data}))\n",
    "    print('실제값: ', sess.run(target, feed_dict={Y: y_data}))\n",
    "    \n",
    "    is_correct = tf.equal(prediction, target)\n",
    "    accuracy = tf.reduce_mean(tf.cast(is_correct, tf.float32))\n",
    "    print('정확도: %.2f' % sess.run(accuracy * 100, feed_dict={X: x_data, Y: y_data}))\n"
   ]
  },
  {
   "cell_type": "markdown",
   "metadata": {},
   "source": [
    "정확도가 그렇게 높지 않은데 이는 신경망이 한 층밖에 되지 않기때문이다. 층을 하나더 늘려주면 해결할 수 있다!\n",
    "\n",
    "## 심층 신경망으로 구현하기"
   ]
  },
  {
   "cell_type": "code",
   "execution_count": 38,
   "metadata": {},
   "outputs": [],
   "source": [
    "W1 = tf.Variable(tf.random_uniform([2, 10], -1., 1.))\n",
    "W2 = tf.Variable(tf.random_uniform([10, 3], -1., 1.))\n",
    "\n",
    "b1 = tf.Variable(tf.zeros([10]))\n",
    "b2 = tf.Variable(tf.zeros([3]))"
   ]
  },
  {
   "cell_type": "code",
   "execution_count": 39,
   "metadata": {},
   "outputs": [],
   "source": [
    "L1 = tf.add(tf.matmul(X, W1), b1)\n",
    "L1 = tf.nn.relu(L1)"
   ]
  },
  {
   "cell_type": "code",
   "execution_count": 40,
   "metadata": {},
   "outputs": [],
   "source": [
    "model1 = tf.add(tf.matmul(L1, W2), b2) "
   ]
  },
  {
   "cell_type": "code",
   "execution_count": 46,
   "metadata": {},
   "outputs": [],
   "source": [
    "cost1 = tf.reduce_mean(tf.nn.softmax_cross_entropy_with_logits_v2(labels=Y, logits=model1))\n",
    "optimizer1 = tf.train.AdamOptimizer(learning_rate=0.01)\n",
    "train_op1 = optimizer1.minimize(cost1)"
   ]
  },
  {
   "cell_type": "markdown",
   "metadata": {},
   "source": [
    "optimizer들은 상황에 따라 좋은 함수가 달라 제공하는 다양한 ㄹ최적화 함수를 찾아보고 적용하는 것이 좋다.  \n",
    "https://www.tensorflow.org/api_guides/python/train#Optimizers"
   ]
  },
  {
   "cell_type": "code",
   "execution_count": 48,
   "metadata": {},
   "outputs": [
    {
     "name": "stdout",
     "output_type": "stream",
     "text": [
      "10 0.8315418\n",
      "20 0.5876274\n",
      "30 0.43293843\n",
      "40 0.32342583\n",
      "50 0.23843594\n",
      "60 0.17338063\n",
      "70 0.12656976\n",
      "80 0.093792886\n",
      "90 0.071269244\n",
      "100 0.055701364\n",
      "예측값:  [0 1 2 0 0 2]\n",
      "실제값:  [0 1 2 0 0 2]\n",
      "정확도: 100.00\n"
     ]
    }
   ],
   "source": [
    "# 텐서플로의 세션을 초기화한다.\n",
    "with tf.Session() as sess:\n",
    "    init = tf.global_variables_initializer()\n",
    "    sess.run(init)\n",
    "\n",
    "    # 앞서 구성한 특징과 레이블 데이터를 이용해 학습을 100번 진행한다.\n",
    "    for step in range(100):\n",
    "        sess.run(train_op1, feed_dict={X: x_data, Y: y_data})\n",
    "\n",
    "        # 학습 도중 10번에 한 번씩 손실값을 출력해보자\n",
    "        if (step + 1) % 10 == 0:\n",
    "            print(step+1, sess.run(cost1, feed_dict={X: x_data, Y: y_data}))\n",
    "    \n",
    "    prediction = tf.argmax(model1, axis=1)\n",
    "    target = tf.argmax(Y, axis=1)\n",
    "    print('예측값: ', sess.run(prediction, feed_dict={X: x_data}))\n",
    "    print('실제값: ', sess.run(target, feed_dict={Y: y_data}))\n",
    "    \n",
    "    is_correct = tf.equal(prediction, target)\n",
    "    accuracy = tf.reduce_mean(tf.cast(is_correct, tf.float32))\n",
    "    print('정확도: %.2f' % sess.run(accuracy * 100, feed_dict={X: x_data, Y: y_data}))"
   ]
  }
 ],
 "metadata": {
  "kernelspec": {
   "display_name": "Python 3",
   "language": "python",
   "name": "python3"
  },
  "language_info": {
   "codemirror_mode": {
    "name": "ipython",
    "version": 3
   },
   "file_extension": ".py",
   "mimetype": "text/x-python",
   "name": "python",
   "nbconvert_exporter": "python",
   "pygments_lexer": "ipython3",
   "version": "3.6.3"
  }
 },
 "nbformat": 4,
 "nbformat_minor": 2
}
